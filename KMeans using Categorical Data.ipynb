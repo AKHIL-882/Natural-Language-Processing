{
  "nbformat": 4,
  "nbformat_minor": 0,
  "metadata": {
    "colab": {
      "name": "Jigeesha Task.ipynb",
      "provenance": [],
      "collapsed_sections": [],
      "include_colab_link": true
    },
    "kernelspec": {
      "display_name": "Python 3",
      "name": "python3"
    },
    "language_info": {
      "name": "python"
    }
  },
  "cells": [
    {
      "cell_type": "markdown",
      "metadata": {
        "id": "view-in-github",
        "colab_type": "text"
      },
      "source": [
        "<a href=\"https://colab.research.google.com/github/AKHIL-882/Natural-Language-Processing/blob/main/KMeans%20using%20Categorical%20Data.ipynb\" target=\"_parent\"><img src=\"https://colab.research.google.com/assets/colab-badge.svg\" alt=\"Open In Colab\"/></a>"
      ]
    },
    {
      "cell_type": "markdown",
      "metadata": {
        "id": "8p7Wx8_zGhfW"
      },
      "source": [
        "### **1.1 Importing the Libraries**"
      ]
    },
    {
      "cell_type": "code",
      "metadata": {
        "id": "AQyX284QFJw1"
      },
      "source": [
        "import pandas as pd\n",
        "import numpy as np\n",
        "import matplotlib.pyplot as plt        #visualisation\n",
        "import seaborn as sns                  #Visualisation\n",
        "%matplotlib inline"
      ],
      "execution_count": 1,
      "outputs": []
    },
    {
      "cell_type": "markdown",
      "metadata": {
        "id": "RtGRP3uhGnOb"
      },
      "source": [
        "### **1.2 Importing the Spacy**"
      ]
    },
    {
      "cell_type": "code",
      "metadata": {
        "id": "F1D80mWRdCYh"
      },
      "source": [
        "import spacy\n",
        "\n",
        "from spacy import displacy\n",
        "\n",
        "nlp = spacy.load('en')"
      ],
      "execution_count": 2,
      "outputs": []
    },
    {
      "cell_type": "markdown",
      "metadata": {
        "id": "p6sdqsGxGr0T"
      },
      "source": [
        "### **1.3 Input String from user**"
      ]
    },
    {
      "cell_type": "code",
      "metadata": {
        "colab": {
          "base_uri": "https://localhost:8080/"
        },
        "id": "P8zSYMacdFv7",
        "outputId": "38904ada-8a50-4b9c-cc89-aea081dc7456"
      },
      "source": [
        "input_text = input()\n",
        "text1= nlp(input_text)"
      ],
      "execution_count": 3,
      "outputs": [
        {
          "output_type": "stream",
          "text": [
            "London: Britain will build what it is calling a new \"national flagship\" vessel to host trade events and promote its post-Brexit interests around the world, Prime Minister Boris Johnson announced Saturday. The ship will provide a global platform for high level trade negotiations as well as British businesses' products, his office said, as the United Kingdom seeks new trading ties after leaving the European Union last year.  It will also be expected to play a role in delivering the country's foreign and security policies, including by hosting summits and other diplomatic talks.  It will be the first so-called national flagship in service since 1997, when the Royal Yacht Britannia was decommissioned.  However, Johnson insisted the new vessel's role will be \"distinct\" from those of forerunners, \"reflecting the UK's burgeoning status as a great, independent maritime trading nation\".  \"Every aspect of the ship, from its build to the businesses it showcases on board, will represent and promote the best of British -- a clear and powerful symbol of our commitment to be an active player on the world stage,\" he said in a statement.  The ship's construction is expected to begin in 2022 and be completed within four years, with its costs confirmed following a competitive tendering process, according to Johnson's office.  The vessel, yet to be named, will be crewed by the Royal Navy and earmarked for around 30 years' service.  The government is likely to face calls to name it after Prince Philip, Queen Elizabeth II's late husband and a former navy commander, who died in April aged 99.  Britain formally left the EU after nearly five decades of membership in January 2020, and quit its single market and customs union at the start of this year.  It has replicated or rolled over existing trade agreements with the bloc, Japan and several other countries, but is yet to strike an entirely new deal with any country\n"
          ],
          "name": "stdout"
        }
      ]
    },
    {
      "cell_type": "markdown",
      "metadata": {
        "id": "eQkkz1u5G9jI"
      },
      "source": [
        "### **1.4 Finding the Origins**"
      ]
    },
    {
      "cell_type": "code",
      "metadata": {
        "colab": {
          "base_uri": "https://localhost:8080/",
          "height": 35
        },
        "id": "VyMpt23VNhx7",
        "outputId": "2ea8ccb4-80cd-4cce-db37-70dc39cb977c"
      },
      "source": [
        "spacy.explain('ORG')"
      ],
      "execution_count": 4,
      "outputs": [
        {
          "output_type": "execute_result",
          "data": {
            "application/vnd.google.colaboratory.intrinsic+json": {
              "type": "string"
            },
            "text/plain": [
              "'Companies, agencies, institutions, etc.'"
            ]
          },
          "metadata": {
            "tags": []
          },
          "execution_count": 4
        }
      ]
    },
    {
      "cell_type": "markdown",
      "metadata": {
        "id": "ECLmQ2-kHBPd"
      },
      "source": [
        "### **1.5 Spliting the text**"
      ]
    },
    {
      "cell_type": "code",
      "metadata": {
        "colab": {
          "base_uri": "https://localhost:8080/"
        },
        "id": "ZHTmSTfPdvzi",
        "outputId": "29fb3c73-45a7-4234-c979-5ff47ae3bc26"
      },
      "source": [
        "words_label = []\n",
        "words_text = []\n",
        "for word in text1.ents:\n",
        "  words_label.append(word.label_)\n",
        "  words_text.append(word.text)\n",
        "  print(word.text,word.label_)\n",
        "\n",
        "dataset =  [words_text,words_label]\n",
        "print(dataset)"
      ],
      "execution_count": 5,
      "outputs": [
        {
          "output_type": "stream",
          "text": [
            "London GPE\n",
            "Britain GPE\n",
            "Boris Johnson PERSON\n",
            "Saturday DATE\n",
            "British NORP\n",
            "the United Kingdom GPE\n",
            "the European Union ORG\n",
            "last year DATE\n",
            "first ORDINAL\n",
            "1997 DATE\n",
            "the Royal Yacht Britannia ORG\n",
            "Johnson PERSON\n",
            "UK GPE\n",
            "British NORP\n",
            "2022 DATE\n",
            "four years DATE\n",
            "Johnson PERSON\n",
            "the Royal Navy ORG\n",
            "around 30 years' DATE\n",
            "Prince Philip PERSON\n",
            "Queen Elizabeth II's PERSON\n",
            "navy ORG\n",
            "April DATE\n",
            "99 DATE\n",
            "Britain GPE\n",
            "EU ORG\n",
            "nearly five decades DATE\n",
            "January 2020 DATE\n",
            "the start of this year DATE\n",
            "Japan GPE\n",
            "[['London', 'Britain', 'Boris Johnson', 'Saturday', 'British', 'the United Kingdom', 'the European Union', 'last year', 'first', '1997', 'the Royal Yacht Britannia', 'Johnson', 'UK', 'British', '2022', 'four years', 'Johnson', 'the Royal Navy', \"around 30 years'\", 'Prince Philip', \"Queen Elizabeth II's\", 'navy', 'April', '99', 'Britain', 'EU', 'nearly five decades', 'January 2020', 'the start of this year', 'Japan'], ['GPE', 'GPE', 'PERSON', 'DATE', 'NORP', 'GPE', 'ORG', 'DATE', 'ORDINAL', 'DATE', 'ORG', 'PERSON', 'GPE', 'NORP', 'DATE', 'DATE', 'PERSON', 'ORG', 'DATE', 'PERSON', 'PERSON', 'ORG', 'DATE', 'DATE', 'GPE', 'ORG', 'DATE', 'DATE', 'DATE', 'GPE']]\n"
          ],
          "name": "stdout"
        }
      ]
    },
    {
      "cell_type": "markdown",
      "metadata": {
        "id": "vT8jL1udHJz9"
      },
      "source": [
        "### **1.6 Converting to dataframe**"
      ]
    },
    {
      "cell_type": "code",
      "metadata": {
        "colab": {
          "base_uri": "https://localhost:8080/",
          "height": 194
        },
        "id": "7b94cJ695KGh",
        "outputId": "74900a75-4e74-4aef-9db4-612514a49db4"
      },
      "source": [
        "# import pandas as pd\n",
        "import pandas as pd\n",
        "df = pd.DataFrame(dataset)\n",
        "df\n"
      ],
      "execution_count": 6,
      "outputs": [
        {
          "output_type": "execute_result",
          "data": {
            "text/html": [
              "<div>\n",
              "<style scoped>\n",
              "    .dataframe tbody tr th:only-of-type {\n",
              "        vertical-align: middle;\n",
              "    }\n",
              "\n",
              "    .dataframe tbody tr th {\n",
              "        vertical-align: top;\n",
              "    }\n",
              "\n",
              "    .dataframe thead th {\n",
              "        text-align: right;\n",
              "    }\n",
              "</style>\n",
              "<table border=\"1\" class=\"dataframe\">\n",
              "  <thead>\n",
              "    <tr style=\"text-align: right;\">\n",
              "      <th></th>\n",
              "      <th>0</th>\n",
              "      <th>1</th>\n",
              "      <th>2</th>\n",
              "      <th>3</th>\n",
              "      <th>4</th>\n",
              "      <th>5</th>\n",
              "      <th>6</th>\n",
              "      <th>7</th>\n",
              "      <th>8</th>\n",
              "      <th>9</th>\n",
              "      <th>10</th>\n",
              "      <th>11</th>\n",
              "      <th>12</th>\n",
              "      <th>13</th>\n",
              "      <th>14</th>\n",
              "      <th>15</th>\n",
              "      <th>16</th>\n",
              "      <th>17</th>\n",
              "      <th>18</th>\n",
              "      <th>19</th>\n",
              "      <th>20</th>\n",
              "      <th>21</th>\n",
              "      <th>22</th>\n",
              "      <th>23</th>\n",
              "      <th>24</th>\n",
              "      <th>25</th>\n",
              "      <th>26</th>\n",
              "      <th>27</th>\n",
              "      <th>28</th>\n",
              "      <th>29</th>\n",
              "    </tr>\n",
              "  </thead>\n",
              "  <tbody>\n",
              "    <tr>\n",
              "      <th>0</th>\n",
              "      <td>London</td>\n",
              "      <td>Britain</td>\n",
              "      <td>Boris Johnson</td>\n",
              "      <td>Saturday</td>\n",
              "      <td>British</td>\n",
              "      <td>the United Kingdom</td>\n",
              "      <td>the European Union</td>\n",
              "      <td>last year</td>\n",
              "      <td>first</td>\n",
              "      <td>1997</td>\n",
              "      <td>the Royal Yacht Britannia</td>\n",
              "      <td>Johnson</td>\n",
              "      <td>UK</td>\n",
              "      <td>British</td>\n",
              "      <td>2022</td>\n",
              "      <td>four years</td>\n",
              "      <td>Johnson</td>\n",
              "      <td>the Royal Navy</td>\n",
              "      <td>around 30 years'</td>\n",
              "      <td>Prince Philip</td>\n",
              "      <td>Queen Elizabeth II's</td>\n",
              "      <td>navy</td>\n",
              "      <td>April</td>\n",
              "      <td>99</td>\n",
              "      <td>Britain</td>\n",
              "      <td>EU</td>\n",
              "      <td>nearly five decades</td>\n",
              "      <td>January 2020</td>\n",
              "      <td>the start of this year</td>\n",
              "      <td>Japan</td>\n",
              "    </tr>\n",
              "    <tr>\n",
              "      <th>1</th>\n",
              "      <td>GPE</td>\n",
              "      <td>GPE</td>\n",
              "      <td>PERSON</td>\n",
              "      <td>DATE</td>\n",
              "      <td>NORP</td>\n",
              "      <td>GPE</td>\n",
              "      <td>ORG</td>\n",
              "      <td>DATE</td>\n",
              "      <td>ORDINAL</td>\n",
              "      <td>DATE</td>\n",
              "      <td>ORG</td>\n",
              "      <td>PERSON</td>\n",
              "      <td>GPE</td>\n",
              "      <td>NORP</td>\n",
              "      <td>DATE</td>\n",
              "      <td>DATE</td>\n",
              "      <td>PERSON</td>\n",
              "      <td>ORG</td>\n",
              "      <td>DATE</td>\n",
              "      <td>PERSON</td>\n",
              "      <td>PERSON</td>\n",
              "      <td>ORG</td>\n",
              "      <td>DATE</td>\n",
              "      <td>DATE</td>\n",
              "      <td>GPE</td>\n",
              "      <td>ORG</td>\n",
              "      <td>DATE</td>\n",
              "      <td>DATE</td>\n",
              "      <td>DATE</td>\n",
              "      <td>GPE</td>\n",
              "    </tr>\n",
              "  </tbody>\n",
              "</table>\n",
              "</div>"
            ],
            "text/plain": [
              "       0        1              2   ...            27                      28     29\n",
              "0  London  Britain  Boris Johnson  ...  January 2020  the start of this year  Japan\n",
              "1     GPE      GPE         PERSON  ...          DATE                    DATE    GPE\n",
              "\n",
              "[2 rows x 30 columns]"
            ]
          },
          "metadata": {
            "tags": []
          },
          "execution_count": 6
        }
      ]
    },
    {
      "cell_type": "markdown",
      "metadata": {
        "id": "l-mJO-EkHOS9"
      },
      "source": [
        "### **1.7 Transforming the dataframe**"
      ]
    },
    {
      "cell_type": "code",
      "metadata": {
        "colab": {
          "base_uri": "https://localhost:8080/"
        },
        "id": "Iqqo_wPc6fDT",
        "outputId": "8bf28540-71da-4c8e-ca25-247295bb4913"
      },
      "source": [
        "dataset_transpose = df.T\n",
        "print(dataset_transpose)"
      ],
      "execution_count": 7,
      "outputs": [
        {
          "output_type": "stream",
          "text": [
            "                            0        1\n",
            "0                      London      GPE\n",
            "1                     Britain      GPE\n",
            "2               Boris Johnson   PERSON\n",
            "3                    Saturday     DATE\n",
            "4                     British     NORP\n",
            "5          the United Kingdom      GPE\n",
            "6          the European Union      ORG\n",
            "7                   last year     DATE\n",
            "8                       first  ORDINAL\n",
            "9                        1997     DATE\n",
            "10  the Royal Yacht Britannia      ORG\n",
            "11                    Johnson   PERSON\n",
            "12                         UK      GPE\n",
            "13                    British     NORP\n",
            "14                       2022     DATE\n",
            "15                 four years     DATE\n",
            "16                    Johnson   PERSON\n",
            "17             the Royal Navy      ORG\n",
            "18           around 30 years'     DATE\n",
            "19              Prince Philip   PERSON\n",
            "20       Queen Elizabeth II's   PERSON\n",
            "21                       navy      ORG\n",
            "22                      April     DATE\n",
            "23                         99     DATE\n",
            "24                    Britain      GPE\n",
            "25                         EU      ORG\n",
            "26        nearly five decades     DATE\n",
            "27               January 2020     DATE\n",
            "28     the start of this year     DATE\n",
            "29                      Japan      GPE\n"
          ],
          "name": "stdout"
        }
      ]
    },
    {
      "cell_type": "markdown",
      "metadata": {
        "id": "hyYRUcsRHSvb"
      },
      "source": [
        "### **1.8 Renaming the columns in the dataframe**"
      ]
    },
    {
      "cell_type": "code",
      "metadata": {
        "id": "4yDyNx2lEDMV"
      },
      "source": [
        "\n",
        "dataset_transpose = dataset_transpose.rename(columns = {0: 'text', 1: 'labels'}, inplace = False)\n"
      ],
      "execution_count": 8,
      "outputs": []
    },
    {
      "cell_type": "markdown",
      "metadata": {
        "id": "Pe4kf11qHas1"
      },
      "source": [
        "### **1.9 Printing the dataframe**"
      ]
    },
    {
      "cell_type": "code",
      "metadata": {
        "colab": {
          "base_uri": "https://localhost:8080/"
        },
        "id": "vzYE44F_-VkD",
        "outputId": "399eab99-4c24-4a2e-c596-71f6b0d47ad0"
      },
      "source": [
        "dataset_transpose.columns\n",
        "print(dataset_transpose)"
      ],
      "execution_count": 9,
      "outputs": [
        {
          "output_type": "stream",
          "text": [
            "                         text   labels\n",
            "0                      London      GPE\n",
            "1                     Britain      GPE\n",
            "2               Boris Johnson   PERSON\n",
            "3                    Saturday     DATE\n",
            "4                     British     NORP\n",
            "5          the United Kingdom      GPE\n",
            "6          the European Union      ORG\n",
            "7                   last year     DATE\n",
            "8                       first  ORDINAL\n",
            "9                        1997     DATE\n",
            "10  the Royal Yacht Britannia      ORG\n",
            "11                    Johnson   PERSON\n",
            "12                         UK      GPE\n",
            "13                    British     NORP\n",
            "14                       2022     DATE\n",
            "15                 four years     DATE\n",
            "16                    Johnson   PERSON\n",
            "17             the Royal Navy      ORG\n",
            "18           around 30 years'     DATE\n",
            "19              Prince Philip   PERSON\n",
            "20       Queen Elizabeth II's   PERSON\n",
            "21                       navy      ORG\n",
            "22                      April     DATE\n",
            "23                         99     DATE\n",
            "24                    Britain      GPE\n",
            "25                         EU      ORG\n",
            "26        nearly five decades     DATE\n",
            "27               January 2020     DATE\n",
            "28     the start of this year     DATE\n",
            "29                      Japan      GPE\n"
          ],
          "name": "stdout"
        }
      ]
    },
    {
      "cell_type": "markdown",
      "metadata": {
        "id": "B_RTt52GHfxK"
      },
      "source": [
        "### **2.0 Description of dataframe**"
      ]
    },
    {
      "cell_type": "code",
      "metadata": {
        "colab": {
          "base_uri": "https://localhost:8080/",
          "height": 166
        },
        "id": "KaXa6VRfAm8J",
        "outputId": "c9a4d765-a830-4077-c336-e53458443078"
      },
      "source": [
        "dataset_transpose.describe()"
      ],
      "execution_count": 10,
      "outputs": [
        {
          "output_type": "execute_result",
          "data": {
            "text/html": [
              "<div>\n",
              "<style scoped>\n",
              "    .dataframe tbody tr th:only-of-type {\n",
              "        vertical-align: middle;\n",
              "    }\n",
              "\n",
              "    .dataframe tbody tr th {\n",
              "        vertical-align: top;\n",
              "    }\n",
              "\n",
              "    .dataframe thead th {\n",
              "        text-align: right;\n",
              "    }\n",
              "</style>\n",
              "<table border=\"1\" class=\"dataframe\">\n",
              "  <thead>\n",
              "    <tr style=\"text-align: right;\">\n",
              "      <th></th>\n",
              "      <th>text</th>\n",
              "      <th>labels</th>\n",
              "    </tr>\n",
              "  </thead>\n",
              "  <tbody>\n",
              "    <tr>\n",
              "      <th>count</th>\n",
              "      <td>30</td>\n",
              "      <td>30</td>\n",
              "    </tr>\n",
              "    <tr>\n",
              "      <th>unique</th>\n",
              "      <td>27</td>\n",
              "      <td>6</td>\n",
              "    </tr>\n",
              "    <tr>\n",
              "      <th>top</th>\n",
              "      <td>Britain</td>\n",
              "      <td>DATE</td>\n",
              "    </tr>\n",
              "    <tr>\n",
              "      <th>freq</th>\n",
              "      <td>2</td>\n",
              "      <td>11</td>\n",
              "    </tr>\n",
              "  </tbody>\n",
              "</table>\n",
              "</div>"
            ],
            "text/plain": [
              "           text labels\n",
              "count        30     30\n",
              "unique       27      6\n",
              "top     Britain   DATE\n",
              "freq          2     11"
            ]
          },
          "metadata": {
            "tags": []
          },
          "execution_count": 10
        }
      ]
    },
    {
      "cell_type": "markdown",
      "metadata": {
        "id": "MTWWveDTHkvs"
      },
      "source": [
        "### **2.1 Information of dataframe**"
      ]
    },
    {
      "cell_type": "code",
      "metadata": {
        "colab": {
          "base_uri": "https://localhost:8080/"
        },
        "id": "qo9FPMCmA1Wv",
        "outputId": "d065f6f0-d8b4-42f2-abc8-6e488fb97dd2"
      },
      "source": [
        "dataset_transpose.info()"
      ],
      "execution_count": 11,
      "outputs": [
        {
          "output_type": "stream",
          "text": [
            "<class 'pandas.core.frame.DataFrame'>\n",
            "RangeIndex: 30 entries, 0 to 29\n",
            "Data columns (total 2 columns):\n",
            " #   Column  Non-Null Count  Dtype \n",
            "---  ------  --------------  ----- \n",
            " 0   text    30 non-null     object\n",
            " 1   labels  30 non-null     object\n",
            "dtypes: object(2)\n",
            "memory usage: 608.0+ bytes\n"
          ],
          "name": "stdout"
        }
      ]
    },
    {
      "cell_type": "markdown",
      "metadata": {
        "id": "VpoLcTFgHoC-"
      },
      "source": [
        "### **2.2 Encoding the dataframe**"
      ]
    },
    {
      "cell_type": "code",
      "metadata": {
        "colab": {
          "base_uri": "https://localhost:8080/",
          "height": 935
        },
        "id": "RS3rB22MDf_9",
        "outputId": "dcdf4d57-7203-4164-eba6-e1dc1051ff79"
      },
      "source": [
        "data_mapped = dataset_transpose.copy()\n",
        "data_mapped['labels'] = data_mapped['labels'].map({'GPE':0, \"CARDINAL\":1, \"PERSON\":2, \"DATE\":3,\"ORG\":4,\"NORP\":5,\"ORDINAL\":6})\n",
        "data_mapped"
      ],
      "execution_count": 18,
      "outputs": [
        {
          "output_type": "execute_result",
          "data": {
            "text/html": [
              "<div>\n",
              "<style scoped>\n",
              "    .dataframe tbody tr th:only-of-type {\n",
              "        vertical-align: middle;\n",
              "    }\n",
              "\n",
              "    .dataframe tbody tr th {\n",
              "        vertical-align: top;\n",
              "    }\n",
              "\n",
              "    .dataframe thead th {\n",
              "        text-align: right;\n",
              "    }\n",
              "</style>\n",
              "<table border=\"1\" class=\"dataframe\">\n",
              "  <thead>\n",
              "    <tr style=\"text-align: right;\">\n",
              "      <th></th>\n",
              "      <th>text</th>\n",
              "      <th>labels</th>\n",
              "    </tr>\n",
              "  </thead>\n",
              "  <tbody>\n",
              "    <tr>\n",
              "      <th>0</th>\n",
              "      <td>London</td>\n",
              "      <td>0</td>\n",
              "    </tr>\n",
              "    <tr>\n",
              "      <th>1</th>\n",
              "      <td>Britain</td>\n",
              "      <td>0</td>\n",
              "    </tr>\n",
              "    <tr>\n",
              "      <th>2</th>\n",
              "      <td>Boris Johnson</td>\n",
              "      <td>2</td>\n",
              "    </tr>\n",
              "    <tr>\n",
              "      <th>3</th>\n",
              "      <td>Saturday</td>\n",
              "      <td>3</td>\n",
              "    </tr>\n",
              "    <tr>\n",
              "      <th>4</th>\n",
              "      <td>British</td>\n",
              "      <td>5</td>\n",
              "    </tr>\n",
              "    <tr>\n",
              "      <th>5</th>\n",
              "      <td>the United Kingdom</td>\n",
              "      <td>0</td>\n",
              "    </tr>\n",
              "    <tr>\n",
              "      <th>6</th>\n",
              "      <td>the European Union</td>\n",
              "      <td>4</td>\n",
              "    </tr>\n",
              "    <tr>\n",
              "      <th>7</th>\n",
              "      <td>last year</td>\n",
              "      <td>3</td>\n",
              "    </tr>\n",
              "    <tr>\n",
              "      <th>8</th>\n",
              "      <td>first</td>\n",
              "      <td>6</td>\n",
              "    </tr>\n",
              "    <tr>\n",
              "      <th>9</th>\n",
              "      <td>1997</td>\n",
              "      <td>3</td>\n",
              "    </tr>\n",
              "    <tr>\n",
              "      <th>10</th>\n",
              "      <td>the Royal Yacht Britannia</td>\n",
              "      <td>4</td>\n",
              "    </tr>\n",
              "    <tr>\n",
              "      <th>11</th>\n",
              "      <td>Johnson</td>\n",
              "      <td>2</td>\n",
              "    </tr>\n",
              "    <tr>\n",
              "      <th>12</th>\n",
              "      <td>UK</td>\n",
              "      <td>0</td>\n",
              "    </tr>\n",
              "    <tr>\n",
              "      <th>13</th>\n",
              "      <td>British</td>\n",
              "      <td>5</td>\n",
              "    </tr>\n",
              "    <tr>\n",
              "      <th>14</th>\n",
              "      <td>2022</td>\n",
              "      <td>3</td>\n",
              "    </tr>\n",
              "    <tr>\n",
              "      <th>15</th>\n",
              "      <td>four years</td>\n",
              "      <td>3</td>\n",
              "    </tr>\n",
              "    <tr>\n",
              "      <th>16</th>\n",
              "      <td>Johnson</td>\n",
              "      <td>2</td>\n",
              "    </tr>\n",
              "    <tr>\n",
              "      <th>17</th>\n",
              "      <td>the Royal Navy</td>\n",
              "      <td>4</td>\n",
              "    </tr>\n",
              "    <tr>\n",
              "      <th>18</th>\n",
              "      <td>around 30 years'</td>\n",
              "      <td>3</td>\n",
              "    </tr>\n",
              "    <tr>\n",
              "      <th>19</th>\n",
              "      <td>Prince Philip</td>\n",
              "      <td>2</td>\n",
              "    </tr>\n",
              "    <tr>\n",
              "      <th>20</th>\n",
              "      <td>Queen Elizabeth II's</td>\n",
              "      <td>2</td>\n",
              "    </tr>\n",
              "    <tr>\n",
              "      <th>21</th>\n",
              "      <td>navy</td>\n",
              "      <td>4</td>\n",
              "    </tr>\n",
              "    <tr>\n",
              "      <th>22</th>\n",
              "      <td>April</td>\n",
              "      <td>3</td>\n",
              "    </tr>\n",
              "    <tr>\n",
              "      <th>23</th>\n",
              "      <td>99</td>\n",
              "      <td>3</td>\n",
              "    </tr>\n",
              "    <tr>\n",
              "      <th>24</th>\n",
              "      <td>Britain</td>\n",
              "      <td>0</td>\n",
              "    </tr>\n",
              "    <tr>\n",
              "      <th>25</th>\n",
              "      <td>EU</td>\n",
              "      <td>4</td>\n",
              "    </tr>\n",
              "    <tr>\n",
              "      <th>26</th>\n",
              "      <td>nearly five decades</td>\n",
              "      <td>3</td>\n",
              "    </tr>\n",
              "    <tr>\n",
              "      <th>27</th>\n",
              "      <td>January 2020</td>\n",
              "      <td>3</td>\n",
              "    </tr>\n",
              "    <tr>\n",
              "      <th>28</th>\n",
              "      <td>the start of this year</td>\n",
              "      <td>3</td>\n",
              "    </tr>\n",
              "    <tr>\n",
              "      <th>29</th>\n",
              "      <td>Japan</td>\n",
              "      <td>0</td>\n",
              "    </tr>\n",
              "  </tbody>\n",
              "</table>\n",
              "</div>"
            ],
            "text/plain": [
              "                         text  labels\n",
              "0                      London       0\n",
              "1                     Britain       0\n",
              "2               Boris Johnson       2\n",
              "3                    Saturday       3\n",
              "4                     British       5\n",
              "5          the United Kingdom       0\n",
              "6          the European Union       4\n",
              "7                   last year       3\n",
              "8                       first       6\n",
              "9                        1997       3\n",
              "10  the Royal Yacht Britannia       4\n",
              "11                    Johnson       2\n",
              "12                         UK       0\n",
              "13                    British       5\n",
              "14                       2022       3\n",
              "15                 four years       3\n",
              "16                    Johnson       2\n",
              "17             the Royal Navy       4\n",
              "18           around 30 years'       3\n",
              "19              Prince Philip       2\n",
              "20       Queen Elizabeth II's       2\n",
              "21                       navy       4\n",
              "22                      April       3\n",
              "23                         99       3\n",
              "24                    Britain       0\n",
              "25                         EU       4\n",
              "26        nearly five decades       3\n",
              "27               January 2020       3\n",
              "28     the start of this year       3\n",
              "29                      Japan       0"
            ]
          },
          "metadata": {
            "tags": []
          },
          "execution_count": 18
        }
      ]
    },
    {
      "cell_type": "markdown",
      "metadata": {
        "id": "sJCuzoXyHuxI"
      },
      "source": [
        "### **2.3 Spliting the dataframe**"
      ]
    },
    {
      "cell_type": "code",
      "metadata": {
        "colab": {
          "base_uri": "https://localhost:8080/",
          "height": 935
        },
        "id": "v-FKbv9rExT0",
        "outputId": "5704bd7b-f858-447c-e0d6-6af24ce5ff8b"
      },
      "source": [
        "x = data_mapped.iloc[:,1:2]\n",
        "x"
      ],
      "execution_count": 19,
      "outputs": [
        {
          "output_type": "execute_result",
          "data": {
            "text/html": [
              "<div>\n",
              "<style scoped>\n",
              "    .dataframe tbody tr th:only-of-type {\n",
              "        vertical-align: middle;\n",
              "    }\n",
              "\n",
              "    .dataframe tbody tr th {\n",
              "        vertical-align: top;\n",
              "    }\n",
              "\n",
              "    .dataframe thead th {\n",
              "        text-align: right;\n",
              "    }\n",
              "</style>\n",
              "<table border=\"1\" class=\"dataframe\">\n",
              "  <thead>\n",
              "    <tr style=\"text-align: right;\">\n",
              "      <th></th>\n",
              "      <th>labels</th>\n",
              "    </tr>\n",
              "  </thead>\n",
              "  <tbody>\n",
              "    <tr>\n",
              "      <th>0</th>\n",
              "      <td>0</td>\n",
              "    </tr>\n",
              "    <tr>\n",
              "      <th>1</th>\n",
              "      <td>0</td>\n",
              "    </tr>\n",
              "    <tr>\n",
              "      <th>2</th>\n",
              "      <td>2</td>\n",
              "    </tr>\n",
              "    <tr>\n",
              "      <th>3</th>\n",
              "      <td>3</td>\n",
              "    </tr>\n",
              "    <tr>\n",
              "      <th>4</th>\n",
              "      <td>5</td>\n",
              "    </tr>\n",
              "    <tr>\n",
              "      <th>5</th>\n",
              "      <td>0</td>\n",
              "    </tr>\n",
              "    <tr>\n",
              "      <th>6</th>\n",
              "      <td>4</td>\n",
              "    </tr>\n",
              "    <tr>\n",
              "      <th>7</th>\n",
              "      <td>3</td>\n",
              "    </tr>\n",
              "    <tr>\n",
              "      <th>8</th>\n",
              "      <td>6</td>\n",
              "    </tr>\n",
              "    <tr>\n",
              "      <th>9</th>\n",
              "      <td>3</td>\n",
              "    </tr>\n",
              "    <tr>\n",
              "      <th>10</th>\n",
              "      <td>4</td>\n",
              "    </tr>\n",
              "    <tr>\n",
              "      <th>11</th>\n",
              "      <td>2</td>\n",
              "    </tr>\n",
              "    <tr>\n",
              "      <th>12</th>\n",
              "      <td>0</td>\n",
              "    </tr>\n",
              "    <tr>\n",
              "      <th>13</th>\n",
              "      <td>5</td>\n",
              "    </tr>\n",
              "    <tr>\n",
              "      <th>14</th>\n",
              "      <td>3</td>\n",
              "    </tr>\n",
              "    <tr>\n",
              "      <th>15</th>\n",
              "      <td>3</td>\n",
              "    </tr>\n",
              "    <tr>\n",
              "      <th>16</th>\n",
              "      <td>2</td>\n",
              "    </tr>\n",
              "    <tr>\n",
              "      <th>17</th>\n",
              "      <td>4</td>\n",
              "    </tr>\n",
              "    <tr>\n",
              "      <th>18</th>\n",
              "      <td>3</td>\n",
              "    </tr>\n",
              "    <tr>\n",
              "      <th>19</th>\n",
              "      <td>2</td>\n",
              "    </tr>\n",
              "    <tr>\n",
              "      <th>20</th>\n",
              "      <td>2</td>\n",
              "    </tr>\n",
              "    <tr>\n",
              "      <th>21</th>\n",
              "      <td>4</td>\n",
              "    </tr>\n",
              "    <tr>\n",
              "      <th>22</th>\n",
              "      <td>3</td>\n",
              "    </tr>\n",
              "    <tr>\n",
              "      <th>23</th>\n",
              "      <td>3</td>\n",
              "    </tr>\n",
              "    <tr>\n",
              "      <th>24</th>\n",
              "      <td>0</td>\n",
              "    </tr>\n",
              "    <tr>\n",
              "      <th>25</th>\n",
              "      <td>4</td>\n",
              "    </tr>\n",
              "    <tr>\n",
              "      <th>26</th>\n",
              "      <td>3</td>\n",
              "    </tr>\n",
              "    <tr>\n",
              "      <th>27</th>\n",
              "      <td>3</td>\n",
              "    </tr>\n",
              "    <tr>\n",
              "      <th>28</th>\n",
              "      <td>3</td>\n",
              "    </tr>\n",
              "    <tr>\n",
              "      <th>29</th>\n",
              "      <td>0</td>\n",
              "    </tr>\n",
              "  </tbody>\n",
              "</table>\n",
              "</div>"
            ],
            "text/plain": [
              "    labels\n",
              "0        0\n",
              "1        0\n",
              "2        2\n",
              "3        3\n",
              "4        5\n",
              "5        0\n",
              "6        4\n",
              "7        3\n",
              "8        6\n",
              "9        3\n",
              "10       4\n",
              "11       2\n",
              "12       0\n",
              "13       5\n",
              "14       3\n",
              "15       3\n",
              "16       2\n",
              "17       4\n",
              "18       3\n",
              "19       2\n",
              "20       2\n",
              "21       4\n",
              "22       3\n",
              "23       3\n",
              "24       0\n",
              "25       4\n",
              "26       3\n",
              "27       3\n",
              "28       3\n",
              "29       0"
            ]
          },
          "metadata": {
            "tags": []
          },
          "execution_count": 19
        }
      ]
    },
    {
      "cell_type": "markdown",
      "metadata": {
        "id": "MMoa_HnmH6ui"
      },
      "source": [
        "### **2.4 Applying KMeans**"
      ]
    },
    {
      "cell_type": "code",
      "metadata": {
        "colab": {
          "base_uri": "https://localhost:8080/"
        },
        "id": "ocYgR5qE6BfD",
        "outputId": "4d037570-c90f-4153-86cf-80daaf8af645"
      },
      "source": [
        "from sklearn.cluster import KMeans\n",
        "kmeans = KMeans(3)\n",
        "kmeans.fit(x)"
      ],
      "execution_count": 20,
      "outputs": [
        {
          "output_type": "execute_result",
          "data": {
            "text/plain": [
              "KMeans(algorithm='auto', copy_x=True, init='k-means++', max_iter=300,\n",
              "       n_clusters=3, n_init=10, n_jobs=None, precompute_distances='auto',\n",
              "       random_state=None, tol=0.0001, verbose=0)"
            ]
          },
          "metadata": {
            "tags": []
          },
          "execution_count": 20
        }
      ]
    },
    {
      "cell_type": "markdown",
      "metadata": {
        "id": "UM-4ol_aH_HX"
      },
      "source": [
        "### **2.5 Predicting the clusters**"
      ]
    },
    {
      "cell_type": "code",
      "metadata": {
        "colab": {
          "base_uri": "https://localhost:8080/"
        },
        "id": "XZnJJXeVFD4g",
        "outputId": "2788c318-b74d-4178-d04a-cddc647f0e96"
      },
      "source": [
        "identified_clusters = kmeans.fit_predict(x)\n",
        "identified_clusters"
      ],
      "execution_count": 21,
      "outputs": [
        {
          "output_type": "execute_result",
          "data": {
            "text/plain": [
              "array([1, 1, 2, 2, 0, 1, 0, 2, 0, 2, 0, 2, 1, 0, 2, 2, 2, 0, 2, 2, 2, 0,\n",
              "       2, 2, 1, 0, 2, 2, 2, 1], dtype=int32)"
            ]
          },
          "metadata": {
            "tags": []
          },
          "execution_count": 21
        }
      ]
    },
    {
      "cell_type": "markdown",
      "metadata": {
        "id": "UR87t6G1IEWP"
      },
      "source": [
        "### **2.6 Add a new columns for further classification**"
      ]
    },
    {
      "cell_type": "code",
      "metadata": {
        "colab": {
          "base_uri": "https://localhost:8080/",
          "height": 935
        },
        "id": "nl9cBnWNFDoo",
        "outputId": "2da0421c-6c45-4a81-accd-ca922596db1f"
      },
      "source": [
        "data_with_cluster = data_mapped.copy()\n",
        "data_with_cluster['Cluster'] = identified_clusters\n",
        "data_with_cluster"
      ],
      "execution_count": 22,
      "outputs": [
        {
          "output_type": "execute_result",
          "data": {
            "text/html": [
              "<div>\n",
              "<style scoped>\n",
              "    .dataframe tbody tr th:only-of-type {\n",
              "        vertical-align: middle;\n",
              "    }\n",
              "\n",
              "    .dataframe tbody tr th {\n",
              "        vertical-align: top;\n",
              "    }\n",
              "\n",
              "    .dataframe thead th {\n",
              "        text-align: right;\n",
              "    }\n",
              "</style>\n",
              "<table border=\"1\" class=\"dataframe\">\n",
              "  <thead>\n",
              "    <tr style=\"text-align: right;\">\n",
              "      <th></th>\n",
              "      <th>text</th>\n",
              "      <th>labels</th>\n",
              "      <th>Cluster</th>\n",
              "    </tr>\n",
              "  </thead>\n",
              "  <tbody>\n",
              "    <tr>\n",
              "      <th>0</th>\n",
              "      <td>London</td>\n",
              "      <td>0</td>\n",
              "      <td>1</td>\n",
              "    </tr>\n",
              "    <tr>\n",
              "      <th>1</th>\n",
              "      <td>Britain</td>\n",
              "      <td>0</td>\n",
              "      <td>1</td>\n",
              "    </tr>\n",
              "    <tr>\n",
              "      <th>2</th>\n",
              "      <td>Boris Johnson</td>\n",
              "      <td>2</td>\n",
              "      <td>2</td>\n",
              "    </tr>\n",
              "    <tr>\n",
              "      <th>3</th>\n",
              "      <td>Saturday</td>\n",
              "      <td>3</td>\n",
              "      <td>2</td>\n",
              "    </tr>\n",
              "    <tr>\n",
              "      <th>4</th>\n",
              "      <td>British</td>\n",
              "      <td>5</td>\n",
              "      <td>0</td>\n",
              "    </tr>\n",
              "    <tr>\n",
              "      <th>5</th>\n",
              "      <td>the United Kingdom</td>\n",
              "      <td>0</td>\n",
              "      <td>1</td>\n",
              "    </tr>\n",
              "    <tr>\n",
              "      <th>6</th>\n",
              "      <td>the European Union</td>\n",
              "      <td>4</td>\n",
              "      <td>0</td>\n",
              "    </tr>\n",
              "    <tr>\n",
              "      <th>7</th>\n",
              "      <td>last year</td>\n",
              "      <td>3</td>\n",
              "      <td>2</td>\n",
              "    </tr>\n",
              "    <tr>\n",
              "      <th>8</th>\n",
              "      <td>first</td>\n",
              "      <td>6</td>\n",
              "      <td>0</td>\n",
              "    </tr>\n",
              "    <tr>\n",
              "      <th>9</th>\n",
              "      <td>1997</td>\n",
              "      <td>3</td>\n",
              "      <td>2</td>\n",
              "    </tr>\n",
              "    <tr>\n",
              "      <th>10</th>\n",
              "      <td>the Royal Yacht Britannia</td>\n",
              "      <td>4</td>\n",
              "      <td>0</td>\n",
              "    </tr>\n",
              "    <tr>\n",
              "      <th>11</th>\n",
              "      <td>Johnson</td>\n",
              "      <td>2</td>\n",
              "      <td>2</td>\n",
              "    </tr>\n",
              "    <tr>\n",
              "      <th>12</th>\n",
              "      <td>UK</td>\n",
              "      <td>0</td>\n",
              "      <td>1</td>\n",
              "    </tr>\n",
              "    <tr>\n",
              "      <th>13</th>\n",
              "      <td>British</td>\n",
              "      <td>5</td>\n",
              "      <td>0</td>\n",
              "    </tr>\n",
              "    <tr>\n",
              "      <th>14</th>\n",
              "      <td>2022</td>\n",
              "      <td>3</td>\n",
              "      <td>2</td>\n",
              "    </tr>\n",
              "    <tr>\n",
              "      <th>15</th>\n",
              "      <td>four years</td>\n",
              "      <td>3</td>\n",
              "      <td>2</td>\n",
              "    </tr>\n",
              "    <tr>\n",
              "      <th>16</th>\n",
              "      <td>Johnson</td>\n",
              "      <td>2</td>\n",
              "      <td>2</td>\n",
              "    </tr>\n",
              "    <tr>\n",
              "      <th>17</th>\n",
              "      <td>the Royal Navy</td>\n",
              "      <td>4</td>\n",
              "      <td>0</td>\n",
              "    </tr>\n",
              "    <tr>\n",
              "      <th>18</th>\n",
              "      <td>around 30 years'</td>\n",
              "      <td>3</td>\n",
              "      <td>2</td>\n",
              "    </tr>\n",
              "    <tr>\n",
              "      <th>19</th>\n",
              "      <td>Prince Philip</td>\n",
              "      <td>2</td>\n",
              "      <td>2</td>\n",
              "    </tr>\n",
              "    <tr>\n",
              "      <th>20</th>\n",
              "      <td>Queen Elizabeth II's</td>\n",
              "      <td>2</td>\n",
              "      <td>2</td>\n",
              "    </tr>\n",
              "    <tr>\n",
              "      <th>21</th>\n",
              "      <td>navy</td>\n",
              "      <td>4</td>\n",
              "      <td>0</td>\n",
              "    </tr>\n",
              "    <tr>\n",
              "      <th>22</th>\n",
              "      <td>April</td>\n",
              "      <td>3</td>\n",
              "      <td>2</td>\n",
              "    </tr>\n",
              "    <tr>\n",
              "      <th>23</th>\n",
              "      <td>99</td>\n",
              "      <td>3</td>\n",
              "      <td>2</td>\n",
              "    </tr>\n",
              "    <tr>\n",
              "      <th>24</th>\n",
              "      <td>Britain</td>\n",
              "      <td>0</td>\n",
              "      <td>1</td>\n",
              "    </tr>\n",
              "    <tr>\n",
              "      <th>25</th>\n",
              "      <td>EU</td>\n",
              "      <td>4</td>\n",
              "      <td>0</td>\n",
              "    </tr>\n",
              "    <tr>\n",
              "      <th>26</th>\n",
              "      <td>nearly five decades</td>\n",
              "      <td>3</td>\n",
              "      <td>2</td>\n",
              "    </tr>\n",
              "    <tr>\n",
              "      <th>27</th>\n",
              "      <td>January 2020</td>\n",
              "      <td>3</td>\n",
              "      <td>2</td>\n",
              "    </tr>\n",
              "    <tr>\n",
              "      <th>28</th>\n",
              "      <td>the start of this year</td>\n",
              "      <td>3</td>\n",
              "      <td>2</td>\n",
              "    </tr>\n",
              "    <tr>\n",
              "      <th>29</th>\n",
              "      <td>Japan</td>\n",
              "      <td>0</td>\n",
              "      <td>1</td>\n",
              "    </tr>\n",
              "  </tbody>\n",
              "</table>\n",
              "</div>"
            ],
            "text/plain": [
              "                         text  labels  Cluster\n",
              "0                      London       0        1\n",
              "1                     Britain       0        1\n",
              "2               Boris Johnson       2        2\n",
              "3                    Saturday       3        2\n",
              "4                     British       5        0\n",
              "5          the United Kingdom       0        1\n",
              "6          the European Union       4        0\n",
              "7                   last year       3        2\n",
              "8                       first       6        0\n",
              "9                        1997       3        2\n",
              "10  the Royal Yacht Britannia       4        0\n",
              "11                    Johnson       2        2\n",
              "12                         UK       0        1\n",
              "13                    British       5        0\n",
              "14                       2022       3        2\n",
              "15                 four years       3        2\n",
              "16                    Johnson       2        2\n",
              "17             the Royal Navy       4        0\n",
              "18           around 30 years'       3        2\n",
              "19              Prince Philip       2        2\n",
              "20       Queen Elizabeth II's       2        2\n",
              "21                       navy       4        0\n",
              "22                      April       3        2\n",
              "23                         99       3        2\n",
              "24                    Britain       0        1\n",
              "25                         EU       4        0\n",
              "26        nearly five decades       3        2\n",
              "27               January 2020       3        2\n",
              "28     the start of this year       3        2\n",
              "29                      Japan       0        1"
            ]
          },
          "metadata": {
            "tags": []
          },
          "execution_count": 22
        }
      ]
    },
    {
      "cell_type": "markdown",
      "metadata": {
        "id": "30EoBRMmILPf"
      },
      "source": [
        "### **2.7 Cluster the data**"
      ]
    },
    {
      "cell_type": "code",
      "metadata": {
        "colab": {
          "base_uri": "https://localhost:8080/",
          "height": 265
        },
        "id": "Y9wHSlvyFDl1",
        "outputId": "183df87c-447b-41d9-9b86-5ef5d0f04708"
      },
      "source": [
        "plt.scatter(data_with_cluster['text'], data_with_cluster['labels'], c=data_with_cluster['Cluster'], cmap = \"rainbow\")\n",
        "\n",
        "plt.show()"
      ],
      "execution_count": 23,
      "outputs": [
        {
          "output_type": "display_data",
          "data": {
            "image/png": "[encoded data removed]",
            "text/plain": [
              "<Figure size 432x288 with 1 Axes>"
            ]
          },
          "metadata": {
            "tags": [],
            "needs_background": "light"
          }
        }
      ]
    },
    {
      "cell_type": "code",
      "metadata": {
        "id": "kFpch_f6GSo0"
      },
      "source": [
        ""
      ],
      "execution_count": null,
      "outputs": []
    }
  ]
}