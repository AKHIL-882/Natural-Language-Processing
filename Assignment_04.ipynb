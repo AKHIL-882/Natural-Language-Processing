{
  "nbformat": 4,
  "nbformat_minor": 0,
  "metadata": {
    "colab": {
      "name": "Assignment-04.ipynb",
      "provenance": [],
      "collapsed_sections": [],
      "include_colab_link": true
    },
    "kernelspec": {
      "display_name": "Python 3",
      "language": "python",
      "name": "python3"
    },
    "language_info": {
      "codemirror_mode": {
        "name": "ipython",
        "version": 3
      },
      "file_extension": ".py",
      "mimetype": "text/x-python",
      "name": "python",
      "nbconvert_exporter": "python",
      "pygments_lexer": "ipython3",
      "version": "3.9.1"
    }
  },
  "cells": [
    {
      "cell_type": "markdown",
      "metadata": {
        "id": "view-in-github",
        "colab_type": "text"
      },
      "source": [
        "<a href=\"https://colab.research.google.com/github/AKHIL-882/Natural-Language-Processing/blob/main/Assignment_04.ipynb\" target=\"_parent\"><img src=\"https://colab.research.google.com/assets/colab-badge.svg\" alt=\"Open In Colab\"/></a>"
      ]
    },
    {
      "cell_type": "markdown",
      "metadata": {
        "id": "5VL-In_5NUC9"
      },
      "source": [
        "# <center>Assignment-04</center>"
      ]
    },
    {
      "cell_type": "markdown",
      "metadata": {
        "id": "U8-i3J4bNUDX"
      },
      "source": [
        "1. Solve below assignment problems in the jupyter notebook only and submit the same on or before the deadline.\n",
        "* Naming convention for the jupyter notebook file should be <b>email_assignment_04.ipynb</b>\n",
        "* Do not copy & paste the code from online. If we do so, you will be rewarded with 0 score for the respective question.\n",
        "* If you have any queries, please reach out the assignments channel in Microsoft Teams.\n",
        "* You can refer to online resources for solving these questions but don’t copy the code."
      ]
    },
    {
      "cell_type": "markdown",
      "metadata": {
        "id": "vIXy6tPRNUDY"
      },
      "source": [
        "### <center> Problem-01"
      ]
    },
    {
      "cell_type": "code",
      "metadata": {
        "id": "g5i7cyym4JBR",
        "colab": {
          "base_uri": "https://localhost:8080/"
        },
        "outputId": "1e280731-c96a-462f-d804-4001bff83f29"
      },
      "source": [
        "def Minimum_edit(charof1, charof2):\n",
        "  \n",
        "    '''\n",
        "    Write a python program to find out the minimum edit ditance(Levenshtein Distance) between given two words.\n",
        "    INPUT:\n",
        "      charof1: charof1 word\n",
        "      charof2: charof2 word\n",
        "    OUTPUT:\n",
        "      return minimum edit distance between the given two words\n",
        "    Example:\n",
        "      INPUT:\n",
        "        charof1: \"Institution\"\n",
        "        charof2: \"Substitution\"\n",
        "      OUTPUT:\n",
        "        minimum edit distance: 5\n",
        "        \n",
        "    Note: In Levenshtein Distance insertion cost=1, deletion cost=1, substitution cost=2\n",
        "  '''\n",
        "\n",
        "  ### Write your code here ###\n",
        "    if charof1 == \"\":\n",
        "        return len(charof2)\n",
        "    if charof2 == \"\":\n",
        "        return len(charof1)\n",
        "    if charof1[-1] == charof2[-1]:\n",
        "        cost = 0\n",
        "    else:\n",
        "        cost = 1\n",
        "       \n",
        "    res = min([Minimum_edit(charof1[:-1], charof2)+1,\n",
        "               Minimum_edit(charof1, charof2[:-1])+1, \n",
        "               Minimum_edit(charof1[:-1], charof2[:-1]) + cost])\n",
        "\n",
        "    return res\n",
        "\n",
        "print(Minimum_edit(\"Institution\", \"Substitution\"))\n"
      ],
      "execution_count": 3,
      "outputs": [
        {
          "output_type": "stream",
          "text": [
            "3\n"
          ],
          "name": "stdout"
        }
      ]
    },
    {
      "cell_type": "markdown",
      "metadata": {
        "id": "6rdivY4VNUDa"
      },
      "source": [
        "### <center> Problem-02"
      ]
    },
    {
      "cell_type": "code",
      "metadata": {
        "id": "qbcXBbk87GYQ",
        "colab": {
          "base_uri": "https://localhost:8080/"
        },
        "outputId": "9fc441d5-b9e1-4738-e6f7-e06dec7d5fee"
      },
      "source": [
        "\n",
        "# import nltk\n",
        "# nltk.download('punkt')\n",
        "\n",
        "# def POS_tagging(string):\n",
        "  \n",
        "'''\n",
        "    Write a python program that takes string as input and returns POS tags present in the string. \n",
        "    Remove the puntuations from the given string and apply the POS tagging.\n",
        "    \n",
        "    Sample Input:\n",
        "        string: \"India lost first t20 against England. Top order collapse is a huge concern for India\"\n",
        "      \n",
        "    Sample Output:\n",
        "      POS_tags list: [('India', 'NNP'), ('lost', 'VBD'), ('first', 'JJ'), ('t20', 'NN'), ('against', 'IN'), ('England', 'NNP'),\n",
        "        ('Top', 'JJ'), ('order', 'NN'), ('collapse', 'NN'), ('is', 'VBZ'), ('a', 'DT'), ('huge', 'JJ'),\n",
        "        ('concern', 'NN'), ('for', 'IN'), ('India', 'NNP')]\n",
        "\n",
        "        \n",
        "'''\n",
        "\n",
        "\n",
        "import nltk\n",
        "new_string = input()\n",
        "lower_case = new_string.lower()\n",
        "token_strings = nltk.word_tokenize(lower_case)\n",
        "tags_pos = nltk.pos_tag(token_strings)\n",
        "print(tags_pos)\n",
        "\n",
        "\n",
        "\n",
        "\n",
        "\n",
        "    \n"
      ],
      "execution_count": 9,
      "outputs": [
        {
          "output_type": "stream",
          "text": [
            "India lost first t20 against England. Top order collapse is a huge concern for India\n",
            "[('india', 'NN'), ('lost', 'VBD'), ('first', 'JJ'), ('t20', 'NN'), ('against', 'IN'), ('england', 'NN'), ('.', '.'), ('top', 'JJ'), ('order', 'NN'), ('collapse', 'NN'), ('is', 'VBZ'), ('a', 'DT'), ('huge', 'JJ'), ('concern', 'NN'), ('for', 'IN'), ('india', 'NN')]\n"
          ],
          "name": "stdout"
        }
      ]
    },
    {
      "cell_type": "code",
      "metadata": {
        "id": "0hcEz8CBSUlV"
      },
      "source": [
        ""
      ],
      "execution_count": null,
      "outputs": []
    }
  ]
}